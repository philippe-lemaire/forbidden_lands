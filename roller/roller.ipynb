{
 "cells": [
  {
   "cell_type": "code",
   "execution_count": 1,
   "id": "115fc57f",
   "metadata": {},
   "outputs": [],
   "source": [
    "%load_ext autoreload\n",
    "%autoreload 2"
   ]
  },
  {
   "cell_type": "code",
   "execution_count": 4,
   "id": "15687fd4",
   "metadata": {},
   "outputs": [],
   "source": [
    "from demon_generator import Demon"
   ]
  },
  {
   "cell_type": "code",
   "execution_count": 5,
   "id": "eba9b9f2",
   "metadata": {},
   "outputs": [],
   "source": [
    "d = Demon()"
   ]
  },
  {
   "cell_type": "code",
   "execution_count": 6,
   "id": "fa9ab7f8",
   "metadata": {},
   "outputs": [
    {
     "data": {
      "text/plain": [
       "A Insect demon.\n",
       "    STR: 3\n",
       "    AGI: 3\n",
       "    WITS: 3\n",
       "    EMP: 3\n",
       "    AR: 4\n",
       "    None.\n",
       "    Attacks: []\n",
       "    Special ability: \n",
       "    Weakness: ."
      ]
     },
     "execution_count": 6,
     "metadata": {},
     "output_type": "execute_result"
    }
   ],
   "source": [
    "d"
   ]
  },
  {
   "cell_type": "code",
   "execution_count": null,
   "id": "a5e63b85",
   "metadata": {},
   "outputs": [],
   "source": []
  }
 ],
 "metadata": {
  "kernelspec": {
   "display_name": "Python 3 (ipykernel)",
   "language": "python",
   "name": "python3"
  },
  "language_info": {
   "codemirror_mode": {
    "name": "ipython",
    "version": 3
   },
   "file_extension": ".py",
   "mimetype": "text/x-python",
   "name": "python",
   "nbconvert_exporter": "python",
   "pygments_lexer": "ipython3",
   "version": "3.10.0rc1"
  },
  "toc": {
   "base_numbering": 1,
   "nav_menu": {},
   "number_sections": true,
   "sideBar": true,
   "skip_h1_title": false,
   "title_cell": "Table of Contents",
   "title_sidebar": "Contents",
   "toc_cell": false,
   "toc_position": {},
   "toc_section_display": true,
   "toc_window_display": false
  }
 },
 "nbformat": 4,
 "nbformat_minor": 5
}
